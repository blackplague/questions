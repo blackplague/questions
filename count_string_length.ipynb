{
 "cells": [
  {
   "cell_type": "code",
   "execution_count": 1,
   "id": "infinite-garbage",
   "metadata": {},
   "outputs": [],
   "source": [
    "from collections import defaultdict\n",
    "from collections import Counter\n",
    "\n",
    "from typing import Dict"
   ]
  },
  {
   "cell_type": "code",
   "execution_count": 2,
   "id": "boring-lottery",
   "metadata": {},
   "outputs": [],
   "source": [
    "def count_letters_in_str0a(input_str: str) -> Dict:\n",
    "    d = dict()\n",
    "    for l in input_str:\n",
    "        if l not in d.keys():\n",
    "            d[l] = 1\n",
    "            continue\n",
    "        d[l] += 1\n",
    "    return d"
   ]
  },
  {
   "cell_type": "code",
   "execution_count": 3,
   "id": "assured-withdrawal",
   "metadata": {},
   "outputs": [],
   "source": [
    "def count_letters_in_str0b(input_str: str) -> Dict:\n",
    "    d = dict()\n",
    "    for l in input_str:\n",
    "        if l not in d.keys():\n",
    "            d[l] = 1\n",
    "        else:\n",
    "            d[l] += 1\n",
    "    return d"
   ]
  },
  {
   "cell_type": "code",
   "execution_count": 4,
   "id": "crude-diving",
   "metadata": {},
   "outputs": [],
   "source": [
    "def count_letters_in_str0c(input_str: str) -> Dict:\n",
    "    d = dict()\n",
    "    for l in input_str:\n",
    "        if l not in d:\n",
    "            d[l] = 1\n",
    "        else:\n",
    "            d[l] += 1\n",
    "    return d"
   ]
  },
  {
   "cell_type": "code",
   "execution_count": 5,
   "id": "informal-requirement",
   "metadata": {},
   "outputs": [],
   "source": [
    "def count_letters_in_str1(input_str: str) -> Dict:\n",
    "    d = defaultdict(int)    \n",
    "    for l in input_str:\n",
    "        d[l] += 1\n",
    "    return dict(d)"
   ]
  },
  {
   "cell_type": "code",
   "execution_count": 6,
   "id": "frozen-bosnia",
   "metadata": {},
   "outputs": [],
   "source": [
    "def count_letters_in_str2(input_str: str) -> Dict:\n",
    "    return dict(Counter(input_str))"
   ]
  },
  {
   "cell_type": "code",
   "execution_count": 7,
   "id": "planned-climb",
   "metadata": {},
   "outputs": [],
   "source": [
    "from string import ascii_lowercase\n",
    "from random import choices\n",
    "from datetime import datetime"
   ]
  },
  {
   "cell_type": "code",
   "execution_count": 8,
   "id": "neither-playing",
   "metadata": {},
   "outputs": [],
   "source": [
    "def generate_string(k: int) -> str:\n",
    "        return ''.join(choices(ascii_lowercase, k=k))"
   ]
  },
  {
   "cell_type": "code",
   "execution_count": 9,
   "id": "internal-programmer",
   "metadata": {},
   "outputs": [],
   "source": [
    "def infinite_string_generator(k: int):\n",
    "    def generate_string() -> str:\n",
    "        yield ''.join(choices(ascii_lowercase, k=k))\n",
    "    return generate_string()"
   ]
  },
  {
   "cell_type": "code",
   "execution_count": 10,
   "id": "deadly-bangkok",
   "metadata": {},
   "outputs": [],
   "source": [
    "usg = infinite_string_generator(100000000)"
   ]
  },
  {
   "cell_type": "code",
   "execution_count": 11,
   "id": "growing-certificate",
   "metadata": {},
   "outputs": [],
   "source": [
    "s = next(usg)"
   ]
  },
  {
   "cell_type": "code",
   "execution_count": 12,
   "id": "moderate-symbol",
   "metadata": {},
   "outputs": [
    {
     "name": "stdout",
     "output_type": "stream",
     "text": [
      "12.1 s ± 151 ms per loop (mean ± std. dev. of 10 runs, 2 loops each)\n"
     ]
    }
   ],
   "source": [
    "%%timeit -n 2 -r 10\n",
    "_ = count_letters_in_str0a(s)"
   ]
  },
  {
   "cell_type": "code",
   "execution_count": 13,
   "id": "undefined-california",
   "metadata": {},
   "outputs": [
    {
     "name": "stdout",
     "output_type": "stream",
     "text": [
      "12.2 s ± 45.8 ms per loop (mean ± std. dev. of 10 runs, 2 loops each)\n"
     ]
    }
   ],
   "source": [
    "%%timeit -n 2 -r 10\n",
    "_ = count_letters_in_str0b(s)"
   ]
  },
  {
   "cell_type": "code",
   "execution_count": 14,
   "id": "decreased-cathedral",
   "metadata": {},
   "outputs": [
    {
     "name": "stdout",
     "output_type": "stream",
     "text": [
      "8.05 s ± 103 ms per loop (mean ± std. dev. of 10 runs, 2 loops each)\n"
     ]
    }
   ],
   "source": [
    "%%timeit -n 2 -r 10\n",
    "_ = count_letters_in_str0c(s)"
   ]
  },
  {
   "cell_type": "code",
   "execution_count": 15,
   "id": "biological-mumbai",
   "metadata": {},
   "outputs": [
    {
     "name": "stdout",
     "output_type": "stream",
     "text": [
      "6.22 s ± 26 ms per loop (mean ± std. dev. of 10 runs, 2 loops each)\n"
     ]
    }
   ],
   "source": [
    "%%timeit -n 2 -r 10\n",
    "_ = count_letters_in_str1(s)"
   ]
  },
  {
   "cell_type": "code",
   "execution_count": 16,
   "id": "extended-fight",
   "metadata": {},
   "outputs": [
    {
     "name": "stdout",
     "output_type": "stream",
     "text": [
      "4.18 s ± 13.5 ms per loop (mean ± std. dev. of 10 runs, 2 loops each)\n"
     ]
    }
   ],
   "source": [
    "%%timeit -n 2 -r 10\n",
    "_ = count_letters_in_str2(s)"
   ]
  },
  {
   "cell_type": "code",
   "execution_count": 17,
   "id": "introductory-corrections",
   "metadata": {},
   "outputs": [
    {
     "name": "stdout",
     "output_type": "stream",
     "text": [
      "4.17 s ± 43.2 ms per loop (mean ± std. dev. of 10 runs, 2 loops each)\n"
     ]
    }
   ],
   "source": [
    "%%timeit -n 2 -r 10\n",
    "_ = Counter(s)"
   ]
  },
  {
   "cell_type": "code",
   "execution_count": null,
   "id": "planned-bosnia",
   "metadata": {},
   "outputs": [],
   "source": []
  }
 ],
 "metadata": {
  "kernelspec": {
   "display_name": "Python 3",
   "language": "python",
   "name": "python3"
  },
  "language_info": {
   "codemirror_mode": {
    "name": "ipython",
    "version": 3
   },
   "file_extension": ".py",
   "mimetype": "text/x-python",
   "name": "python",
   "nbconvert_exporter": "python",
   "pygments_lexer": "ipython3",
   "version": "3.9.2"
  }
 },
 "nbformat": 4,
 "nbformat_minor": 5
}
