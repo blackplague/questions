{
 "metadata": {
  "language_info": {
   "codemirror_mode": {
    "name": "ipython",
    "version": 3
   },
   "file_extension": ".py",
   "mimetype": "text/x-python",
   "name": "python",
   "nbconvert_exporter": "python",
   "pygments_lexer": "ipython3",
   "version": "3.7.9-final"
  },
  "orig_nbformat": 2,
  "kernelspec": {
   "name": "python3",
   "display_name": "Python 3.7.9 64-bit ('base': conda)",
   "metadata": {
    "interpreter": {
     "hash": "bd03085a75f81987929ba2b5d57168a7aaef1ec5b05c9de5780fa11c1d1b9af0"
    }
   }
  }
 },
 "nbformat": 4,
 "nbformat_minor": 2,
 "cells": [
  {
   "source": [
    "Question 2 - Generators\n",
    "\n",
    "So I have been asked what a generator is (and how to implement one)"
   ],
   "cell_type": "markdown",
   "metadata": {}
  },
  {
   "source": [
    "So prior to this, I have mostly seen generator functions, either finite or infinite. Below is a simple example of a finite generator function"
   ],
   "cell_type": "markdown",
   "metadata": {}
  },
  {
   "cell_type": "code",
   "execution_count": 9,
   "metadata": {},
   "outputs": [],
   "source": [
    "def give_me_a_sequence_up_to_ten():\n",
    "    nums = range(10)\n",
    "    for n in nums:\n",
    "        yield n"
   ]
  },
  {
   "cell_type": "code",
   "execution_count": 10,
   "metadata": {},
   "outputs": [
    {
     "output_type": "stream",
     "name": "stdout",
     "text": [
      "0, 1, 2, 3, 4, 5, 6, 7, 8, 9, "
     ]
    }
   ],
   "source": [
    "for i in give_me_a_sequence_up_to_ten():\n",
    "    print(i, end=', ')"
   ]
  },
  {
   "source": [
    "And one can of course, pass arguments to the generator function and yield those from the generator. Say have a list of employees or similar"
   ],
   "cell_type": "markdown",
   "metadata": {}
  },
  {
   "cell_type": "code",
   "execution_count": 11,
   "metadata": {},
   "outputs": [],
   "source": [
    "def employee_name_generator(emps):\n",
    "    for emp in emps:\n",
    "        yield emp"
   ]
  },
  {
   "cell_type": "code",
   "execution_count": 12,
   "metadata": {},
   "outputs": [
    {
     "output_type": "stream",
     "name": "stdout",
     "text": [
      "Employee name: Janice\nEmployee name: Bob\nEmployee name: Alice\nEmployee name: Igor\n"
     ]
    }
   ],
   "source": [
    "employees = ['Janice', 'Bob', 'Alice', 'Igor']\n",
    "for e in employee_name_generator(employees):\n",
    "    print(f'Employee name: {e}')"
   ]
  },
  {
   "source": [
    "A very boring, but infinite generator function"
   ],
   "cell_type": "markdown",
   "metadata": {}
  },
  {
   "cell_type": "code",
   "execution_count": 13,
   "metadata": {},
   "outputs": [],
   "source": [
    "def random_number():\n",
    "    while True:\n",
    "        yield 9"
   ]
  },
  {
   "cell_type": "code",
   "execution_count": 14,
   "metadata": {},
   "outputs": [
    {
     "output_type": "stream",
     "name": "stdout",
     "text": [
      "9, 9, 9, 9, 9, 9, 9, 9, 9, 9, 9, 9, 9, 9, 9, "
     ]
    }
   ],
   "source": [
    "# Get the first 15 \"random\" numbers\n",
    "gen = random_number()\n",
    "\n",
    "for _ in range(15):\n",
    "    print(next(gen), end=', ')"
   ]
  },
  {
   "source": [
    "Lets do a simple generator like the employee_name_generator function from above. As a precursor we need to implement the methods **send(self, args)** and **throw(self, type=None, value=None, traceback=None)**"
   ],
   "cell_type": "markdown",
   "metadata": {}
  },
  {
   "cell_type": "code",
   "execution_count": 15,
   "metadata": {},
   "outputs": [],
   "source": [
    "from collections.abc import Generator\n",
    "from typing import List"
   ]
  },
  {
   "cell_type": "code",
   "execution_count": 16,
   "metadata": {},
   "outputs": [],
   "source": [
    "class EmployeeNameGenerator0a(Generator):\n",
    "    def __init__(self, employee_names: List[str]) -> None:\n",
    "        self.employee_names = employee_names\n",
    "    def send(self, ignored_args=None) -> str:\n",
    "        while self.employee_names:\n",
    "            return_value = self.employee_names.pop()\n",
    "            return return_value\n",
    "        raise StopIteration\n",
    "    def throw(self, type=None, value=None, traceback=None):\n",
    "        raise StopIteration"
   ]
  },
  {
   "source": [
    "One might already have figured that the above will not work entirely as expected. There might be something about the order in which the employee names are produced that might stick out. Lets try to run it."
   ],
   "cell_type": "markdown",
   "metadata": {}
  },
  {
   "cell_type": "code",
   "execution_count": 19,
   "metadata": {},
   "outputs": [
    {
     "output_type": "stream",
     "name": "stdout",
     "text": [
      "Employee name: Igor\nEmployee name: Alice\nEmployee name: Bob\nEmployee name: Janice\n"
     ]
    }
   ],
   "source": [
    "emp_gen_0a = EmployeeNameGenerator0a(employees)\n",
    "\n",
    "for emp in emp_gen_0a:\n",
    "    print(f'Employee name: {emp}')"
   ]
  },
  {
   "source": [
    "From the above we see that the output is \"produced\" in the opposit order. That is a consequence of our \"lazy\" way of checking whether to continue returning values **while self.employee_names** and the way we retrieve the next value, namely **return_value = self.employee.pop()**. **while self.employee_names** will stop looping when self.employee_names == [], because the empty list evaluates to **False**. Hence ** if []: print('hello') else: print('bye bye')** will print *bye bye*. Calling **pop()** on a list will remove and return the last element of that list."
   ],
   "cell_type": "markdown",
   "metadata": {}
  },
  {
   "cell_type": "code",
   "execution_count": 20,
   "metadata": {},
   "outputs": [],
   "source": [
    "class EmployeeNameGenerator0b(Generator):\n",
    "    def __init__(self, employee_names: List[str]) -> None:\n",
    "        self.employee_names = sorted(employee_names, reverse=True)\n",
    "    def send(self, ignored_args=None) -> str:\n",
    "        while self.employee_names:\n",
    "            return_value = self.employee_names.pop()\n",
    "            return return_value\n",
    "        raise StopIteration\n",
    "    def throw(self, type=None, value=None, traceback=None):\n",
    "        raise StopIteration"
   ]
  },
  {
   "source": [
    "More to come..."
   ],
   "cell_type": "markdown",
   "metadata": {}
  }
 ]
}