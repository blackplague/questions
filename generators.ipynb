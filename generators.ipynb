{
 "metadata": {
  "language_info": {
   "codemirror_mode": {
    "name": "ipython",
    "version": 3
   },
   "file_extension": ".py",
   "mimetype": "text/x-python",
   "name": "python",
   "nbconvert_exporter": "python",
   "pygments_lexer": "ipython3",
   "version": "3.7.9-final"
  },
  "orig_nbformat": 2,
  "kernelspec": {
   "name": "python3",
   "display_name": "Python 3.7.9 64-bit ('base': conda)",
   "metadata": {
    "interpreter": {
     "hash": "bd03085a75f81987929ba2b5d57168a7aaef1ec5b05c9de5780fa11c1d1b9af0"
    }
   }
  }
 },
 "nbformat": 4,
 "nbformat_minor": 2,
 "cells": [
  {
   "source": [
    "Question 2 - Generators\n",
    "\n",
    "So I have been asked what a generator is (and how to implement one)"
   ],
   "cell_type": "markdown",
   "metadata": {}
  },
  {
   "source": [
    "So prior to this, I have mostly seen generator functions, either finite or infinite. Below is a simple example of a finite generator function"
   ],
   "cell_type": "markdown",
   "metadata": {}
  },
  {
   "cell_type": "code",
   "execution_count": 1,
   "metadata": {},
   "outputs": [],
   "source": [
    "def give_me_a_sequence_up_to_ten():\n",
    "    nums = range(10)\n",
    "    for n in nums:\n",
    "        yield n"
   ]
  },
  {
   "cell_type": "code",
   "execution_count": 12,
   "metadata": {},
   "outputs": [
    {
     "output_type": "stream",
     "name": "stdout",
     "text": [
      "0, 1, 2, 3, 4, 5, 6, 7, 8, 9, "
     ]
    }
   ],
   "source": [
    "for i in give_me_a_sequence_up_to_ten():\n",
    "    print(i, end=', ')"
   ]
  },
  {
   "source": [
    "And one can of course, pass arguments to the generator function and yield those from the generator. Say have a list of employees or similar"
   ],
   "cell_type": "markdown",
   "metadata": {}
  },
  {
   "cell_type": "code",
   "execution_count": 9,
   "metadata": {},
   "outputs": [],
   "source": [
    "def employee_name_generator(emps):\n",
    "    for emp in emps:\n",
    "        yield emp"
   ]
  },
  {
   "cell_type": "code",
   "execution_count": 11,
   "metadata": {},
   "outputs": [
    {
     "output_type": "stream",
     "name": "stdout",
     "text": [
      "Employee name: Janice\nEmployee name: Bob\nEmployee name: Alice\nEmployee name: Igor\n"
     ]
    }
   ],
   "source": [
    "employees = ['Janice', 'Bob', 'Alice', 'Igor']\n",
    "for e in employee_name_generator(employees):\n",
    "    print(f'Employee name: {e}')"
   ]
  },
  {
   "source": [
    "A very boring, but infinite generator function"
   ],
   "cell_type": "markdown",
   "metadata": {}
  },
  {
   "cell_type": "code",
   "execution_count": 1,
   "metadata": {},
   "outputs": [],
   "source": [
    "def random_number():\n",
    "    while True:\n",
    "        yield 9"
   ]
  },
  {
   "cell_type": "code",
   "execution_count": 4,
   "metadata": {},
   "outputs": [
    {
     "output_type": "stream",
     "name": "stdout",
     "text": [
      "9, 9, 9, 9, 9, 9, 9, 9, 9, 9, 9, 9, 9, 9, 9, "
     ]
    }
   ],
   "source": [
    "# Get the first 15 \"random\" numbers\n",
    "gen = random_number()\n",
    "\n",
    "for _ in range(15):\n",
    "    print(next(gen), end=', ')"
   ]
  },
  {
   "source": [
    "Lets do a simple generator like the employee_name_generator function from above."
   ],
   "cell_type": "markdown",
   "metadata": {}
  }
 ]
}